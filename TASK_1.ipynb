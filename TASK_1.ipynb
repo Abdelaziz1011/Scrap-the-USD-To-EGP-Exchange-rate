{
 "cells": [
  {
   "cell_type": "markdown",
   "id": "dd3e7017",
   "metadata": {},
   "source": [
    "## Task1"
   ]
  },
  {
   "cell_type": "markdown",
   "id": "a3ae50fc",
   "metadata": {},
   "source": [
    " ## Scrap the USD To EGP Exchange rate from this website https://www.exchangerates.org.uk/Dollars-to-Egyptian-Pounds-currency-conversion-page.html   and then use it to make a software that takes amount of USD Dollars from the user and calculate how much will it cost in EGP.\n"
   ]
  },
  {
   "cell_type": "code",
   "execution_count": 1,
   "id": "c5ffec29",
   "metadata": {},
   "outputs": [],
   "source": [
    "import requests\n",
    "from bs4 import BeautifulSoup"
   ]
  },
  {
   "cell_type": "code",
   "execution_count": 2,
   "id": "f5de6752",
   "metadata": {},
   "outputs": [
    {
     "data": {
      "text/plain": [
       "'https://www.exchangerates.org.uk/Dollars-to-Egyptian-Pounds-currency-conversion-page.html'"
      ]
     },
     "execution_count": 2,
     "metadata": {},
     "output_type": "execute_result"
    }
   ],
   "source": [
    "url = \"https://www.exchangerates.org.uk/Dollars-to-Egyptian-Pounds-currency-conversion-page.html\"\n",
    "url"
   ]
  },
  {
   "cell_type": "code",
   "execution_count": 3,
   "id": "91128503",
   "metadata": {},
   "outputs": [
    {
     "data": {
      "text/plain": [
       "<Response [200]>"
      ]
     },
     "execution_count": 3,
     "metadata": {},
     "output_type": "execute_result"
    }
   ],
   "source": [
    "response = requests.get(url)\n",
    "response"
   ]
  },
  {
   "cell_type": "code",
   "execution_count": 4,
   "id": "a3d8b816",
   "metadata": {},
   "outputs": [],
   "source": [
    "soup = BeautifulSoup(response.text, \"html.parser\")\n",
    "#soup"
   ]
  },
  {
   "cell_type": "code",
   "execution_count": 5,
   "id": "b1e9969c",
   "metadata": {},
   "outputs": [],
   "source": [
    "rate = float(soup.find(\"span\", attrs={\"id\":\"shd2b;\"}).text)"
   ]
  },
  {
   "cell_type": "code",
   "execution_count": 6,
   "id": "769bea0f",
   "metadata": {},
   "outputs": [
    {
     "name": "stdout",
     "output_type": "stream",
     "text": [
      "Enter the amount in USD: 120.12\n",
      "120.12 in USD = 5676.030360000001 in EGP\n"
     ]
    }
   ],
   "source": [
    "amount = float(input(\"Enter the amount in USD: \"))\n",
    "result = amount * rate\n",
    "print(f\"{amount} in USD = {result} in EGP\")"
   ]
  }
 ],
 "metadata": {
  "kernelspec": {
   "display_name": "Python 3 (ipykernel)",
   "language": "python",
   "name": "python3"
  },
  "language_info": {
   "codemirror_mode": {
    "name": "ipython",
    "version": 3
   },
   "file_extension": ".py",
   "mimetype": "text/x-python",
   "name": "python",
   "nbconvert_exporter": "python",
   "pygments_lexer": "ipython3",
   "version": "3.11.5"
  }
 },
 "nbformat": 4,
 "nbformat_minor": 5
}
